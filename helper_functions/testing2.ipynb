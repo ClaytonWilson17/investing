{
 "cells": [
  {
   "cell_type": "code",
   "execution_count": 6,
   "metadata": {},
   "outputs": [
    {
     "name": "stdout",
     "output_type": "stream",
     "text": [
      "AEP stock good\n",
      "--- 5.55 seconds to get all stock data  ---\n"
     ]
    },
    {
     "data": {
      "text/plain": [
       "[{'shortName': 'American Electric Power Company',\n",
       "  'industry': 'Utilities—Regulated Electric',\n",
       "  'symbol': 'AEP',\n",
       "  'exchange': 'NASDAQ',\n",
       "  'currentPrice': 94.91,\n",
       "  'heldPercentInstitutions': 75.71,\n",
       "  'dividendYield': 3.47,\n",
       "  'exDividendDate': 'Wed Nov  9 00:00:00 2022',\n",
       "  'forwardPE': 17.91,\n",
       "  'trailingPE': 19.69,\n",
       "  'priceToBook': 2.01,\n",
       "  'nextEarningsDate': Timestamp('2023-02-22 13:30:00'),\n",
       "  '4Quarters_increasing_revenue': True,\n",
       "  '4Quarters_increasing_profit': False,\n",
       "  '4years_increasing_revenue': False,\n",
       "  '4years_increasing_profit': True,\n",
       "  'pct_chg_5y': 48.93,\n",
       "  'pct_chg_1y': 11.55,\n",
       "  'pct_chg_6mo': 8.26,\n",
       "  'pct_chg_3mo': -4.54,\n",
       "  'pct_chg_1mo': 5.76,\n",
       "  'pct_chg_1wk': -1.73,\n",
       "  'fundamentals_url': 'https://g.co/finance/AEP:NASDAQ',\n",
       "  'tech_markus': 'https://stockcharts.com/h-sc/ui?s=AEP&p=D&b=5&g=0&id=p05555723250',\n",
       "  'tech_chuck': 'https://stockcharts.com/h-sc/ui?s=AEP&p=D&b=5&g=0&id=p67002332832'}]"
      ]
     },
     "execution_count": 6,
     "metadata": {},
     "output_type": "execute_result"
    }
   ],
   "source": [
    "exec(\"\"\"\\nimport sys,os\\nexec(\\\"\\\"\\\"\\\\ndef get_git_root(path=os.getcwd(),display=False):\\\\n    \\\\n    '''\\\\n    Get Git Root Directory. Only recursively goes up 10 directories.\\\\n    RETURNS: None or absolute path to git root directory\\\\n    '''\\\\n    count = 0\\\\n    prefix = \"\"\\\\n    while count < 10:\\\\n        if os.path.exists(prefix+'.git'):\\\\n            return os.path.abspath(prefix)\\\\n        else:\\\\n            prefix +=\"../\"\\\\n            count+=1\\\\n    print(\"No git top level directory\")\\\\n    return None\\\\n\\\"\\\"\\\")\\ngitroot=get_git_root()\\nsys.path.append(os.path.abspath(gitroot))\\n\"\"\") # one liner statement that adds the root of this repo to python for inports\n",
    "from helper_functions import get_fundamental_indicators\n",
    "from importlib import reload\n",
    "from tradingview_ta import TA_Handler, Interval\n",
    "reload(get_fundamental_indicators)\n",
    "\n",
    "#get_fundamental_indicators.write_symbol_to_csv(\"AEP\", \"NASDAQ\", get_any_stock=False, cache=False)\n",
    "get_fundamental_indicators.get_delta()"
   ]
  }
 ],
 "metadata": {
  "kernelspec": {
   "display_name": "Python 3",
   "language": "python",
   "name": "python3"
  },
  "language_info": {
   "codemirror_mode": {
    "name": "ipython",
    "version": 3
   },
   "file_extension": ".py",
   "mimetype": "text/x-python",
   "name": "python",
   "nbconvert_exporter": "python",
   "pygments_lexer": "ipython3",
   "version": "3.10.8"
  },
  "orig_nbformat": 4,
  "vscode": {
   "interpreter": {
    "hash": "aee8b7b246df8f9039afb4144a1f6fd8d2ca17a180786b69acc140d282b71a49"
   }
  }
 },
 "nbformat": 4,
 "nbformat_minor": 2
}
