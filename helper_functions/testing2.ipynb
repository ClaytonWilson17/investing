{
 "cells": [
  {
   "cell_type": "code",
   "execution_count": 38,
   "metadata": {},
   "outputs": [
    {
     "name": "stdout",
     "output_type": "stream",
     "text": [
      "This was a bad stock but returning results anyway\n",
      "--- 8.77 seconds to get all stock data  ---\n"
     ]
    },
    {
     "data": {
      "text/plain": [
       "[{'shortName': 'Alphabet Inc.',\n",
       "  'industry': 'Internet Content & Information',\n",
       "  'symbol': 'GOOG',\n",
       "  'exchange': 'NASDAQ',\n",
       "  'currentPrice': 91.2,\n",
       "  'heldPercentInstitutions': 63.33,\n",
       "  'dividendYield': 0,\n",
       "  'exDividendDate': None,\n",
       "  'forwardPE': 17.34,\n",
       "  'trailingPE': 17.71,\n",
       "  'priceToBook': 4.66,\n",
       "  'nextEarningsDate': Timestamp('2023-01-30 21:00:00'),\n",
       "  '4Quarters_increasing_revenue': False,\n",
       "  '4Quarters_increasing_profit': False,\n",
       "  '4years_increasing_revenue': True,\n",
       "  '4years_increasing_profit': True,\n",
       "  'pct_chg_5y': 69.34,\n",
       "  'pct_chg_1y': -37.03,\n",
       "  'pct_chg_6mo': -14.48,\n",
       "  'pct_chg_3mo': -11.99,\n",
       "  'pct_chg_1mo': -7.87,\n",
       "  'pct_chg_1wk': -2.01,\n",
       "  'fundamentals_url': 'https://g.co/finance/GOOG:NASDAQ',\n",
       "  'tech_markus': 'https://stockcharts.com/h-sc/ui?s=GOOG&p=D&b=5&g=0&id=p05555723250',\n",
       "  'tech_chuck': 'https://stockcharts.com/h-sc/ui?s=GOOG&p=D&b=5&g=0&id=p67002332832',\n",
       "  'tech_custom': 'https://stockcharts.com/h-sc/ui?s=GOOG&p=D&b=5&g=0&id=p65070527036'}]"
      ]
     },
     "execution_count": 38,
     "metadata": {},
     "output_type": "execute_result"
    }
   ],
   "source": [
    "exec(\"\"\"\\nimport sys,os\\nexec(\\\"\\\"\\\"\\\\ndef get_git_root(path=os.getcwd(),display=False):\\\\n    \\\\n    '''\\\\n    Get Git Root Directory. Only recursively goes up 10 directories.\\\\n    RETURNS: None or absolute path to git root directory\\\\n    '''\\\\n    count = 0\\\\n    prefix = \"\"\\\\n    while count < 10:\\\\n        if os.path.exists(prefix+'.git'):\\\\n            return os.path.abspath(prefix)\\\\n        else:\\\\n            prefix +=\"../\"\\\\n            count+=1\\\\n    print(\"No git top level directory\")\\\\n    return None\\\\n\\\"\\\"\\\")\\ngitroot=get_git_root()\\nsys.path.append(os.path.abspath(gitroot))\\n\"\"\") # one liner statement that adds the root of this repo to python for inports\n",
    "from helper_functions import get_fundamental_indicators\n",
    "from importlib import reload\n",
    "from tradingview_ta import TA_Handler, Interval\n",
    "reload(get_fundamental_indicators)\n",
    "\n",
    "get_fundamental_indicators.write_symbol_to_csv(\"AEP\", \"NASDAQ\", get_any_stock=True)"
   ]
  }
 ],
 "metadata": {
  "kernelspec": {
   "display_name": "Python 3",
   "language": "python",
   "name": "python3"
  },
  "language_info": {
   "codemirror_mode": {
    "name": "ipython",
    "version": 3
   },
   "file_extension": ".py",
   "mimetype": "text/x-python",
   "name": "python",
   "nbconvert_exporter": "python",
   "pygments_lexer": "ipython3",
   "version": "3.10.8"
  },
  "orig_nbformat": 4,
  "vscode": {
   "interpreter": {
    "hash": "aee8b7b246df8f9039afb4144a1f6fd8d2ca17a180786b69acc140d282b71a49"
   }
  }
 },
 "nbformat": 4,
 "nbformat_minor": 2
}
