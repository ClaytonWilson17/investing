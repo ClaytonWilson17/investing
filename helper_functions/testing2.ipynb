{
 "cells": [
  {
   "cell_type": "code",
   "execution_count": 8,
   "metadata": {},
   "outputs": [
    {
     "name": "stdout",
     "output_type": "stream",
     "text": [
      "CSCO stock good\n",
      "--- 5.5 seconds to get all stock data  ---\n"
     ]
    },
    {
     "data": {
      "text/plain": [
       "[{'shortName': 'Cisco Systems, Inc.',\n",
       "  'industry': 'Communication Equipment',\n",
       "  'symbol': 'CSCO',\n",
       "  'exchange': 'NASDAQ',\n",
       "  'currentPrice': 47.591,\n",
       "  'heldPercentInstitutions': 74.96,\n",
       "  'dividendYield': 3.08,\n",
       "  'exDividendDate': 'Wed Jan  4 00:00:00 2023',\n",
       "  'forwardPE': 12.43,\n",
       "  'trailingPE': 17.18,\n",
       "  'priceToBook': 4.85,\n",
       "  'nextEarningsDate': Timestamp('2022-02-07 10:59:00'),\n",
       "  '4Quarters_increasing_revenue': True,\n",
       "  '4Quarters_increasing_profit': False,\n",
       "  '4years_increasing_revenue': False,\n",
       "  '4years_increasing_profit': False,\n",
       "  'pct_chg_5y': 43.88,\n",
       "  'pct_chg_1y': -18.62,\n",
       "  'pct_chg_6mo': 11.86,\n",
       "  'pct_chg_3mo': 10.92,\n",
       "  'pct_chg_1mo': 7.2,\n",
       "  'pct_chg_1wk': -1.81,\n",
       "  'fundamentals_url': 'https://g.co/finance/CSCO:NASDAQ',\n",
       "  'tech_markus': 'https://stockcharts.com/h-sc/ui?s=CSCO&p=D&b=5&g=0&id=p05555723250',\n",
       "  'tech_chuck': 'https://stockcharts.com/h-sc/ui?s=CSCO&p=D&b=5&g=0&id=p67002332832'}]"
      ]
     },
     "execution_count": 8,
     "metadata": {},
     "output_type": "execute_result"
    }
   ],
   "source": [
    "exec(\"\"\"\\nimport sys,os\\nexec(\\\"\\\"\\\"\\\\ndef get_git_root(path=os.getcwd(),display=False):\\\\n    \\\\n    '''\\\\n    Get Git Root Directory. Only recursively goes up 10 directories.\\\\n    RETURNS: None or absolute path to git root directory\\\\n    '''\\\\n    count = 0\\\\n    prefix = \"\"\\\\n    while count < 10:\\\\n        if os.path.exists(prefix+'.git'):\\\\n            return os.path.abspath(prefix)\\\\n        else:\\\\n            prefix +=\"../\"\\\\n            count+=1\\\\n    print(\"No git top level directory\")\\\\n    return None\\\\n\\\"\\\"\\\")\\ngitroot=get_git_root()\\nsys.path.append(os.path.abspath(gitroot))\\n\"\"\") # one liner statement that adds the root of this repo to python for inports\n",
    "from helper_functions import get_fundamental_indicators\n",
    "from importlib import reload\n",
    "from tradingview_ta import TA_Handler, Interval\n",
    "reload(get_fundamental_indicators)\n",
    "\n",
    "get_fundamental_indicators.write_symbol_to_csv(\"CSCO\", \"NASDAQ\", get_any_stock=False)"
   ]
  }
 ],
 "metadata": {
  "kernelspec": {
   "display_name": "Python 3",
   "language": "python",
   "name": "python3"
  },
  "language_info": {
   "codemirror_mode": {
    "name": "ipython",
    "version": 3
   },
   "file_extension": ".py",
   "mimetype": "text/x-python",
   "name": "python",
   "nbconvert_exporter": "python",
   "pygments_lexer": "ipython3",
   "version": "3.10.8"
  },
  "orig_nbformat": 4,
  "vscode": {
   "interpreter": {
    "hash": "aee8b7b246df8f9039afb4144a1f6fd8d2ca17a180786b69acc140d282b71a49"
   }
  }
 },
 "nbformat": 4,
 "nbformat_minor": 2
}
