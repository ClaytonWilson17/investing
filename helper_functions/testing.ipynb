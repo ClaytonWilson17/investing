{
 "cells": [
  {
   "cell_type": "code",
   "execution_count": 99,
   "metadata": {},
   "outputs": [
    {
     "name": "stdout",
     "output_type": "stream",
     "text": [
      ".env exists with value filled in- API keys\n",
      "Loading /Users/sowens/Desktop/investing/data/all_stock_symbols2022-12-10.pkl as cache\n",
      "There are a total of: 11863 symbols\n",
      "Loading /Users/sowens/Desktop/investing/data/all_stock_data2022-12-10.pkl as cache\n"
     ]
    },
    {
     "data": {
      "text/plain": [
       "[{'shortName': 'Arch Capital Group Ltd.',\n",
       "  'industry': 'Insurance—Diversified',\n",
       "  'symbol': 'ACGL',\n",
       "  'currentPrice': 60.04,\n",
       "  'marketCap': 22207174656,\n",
       "  'dividendYield': None,\n",
       "  'forwardEps': 5.48,\n",
       "  'trailingEps': 3.14,\n",
       "  'forwardPE': 10.956204,\n",
       "  'trailingPE': 19.12102,\n",
       "  'priceToBook': 2.0109186,\n",
       "  'profitMargins': 0.14008,\n",
       "  'totalRevenue': 8855909376,\n",
       "  'grossProfits': 3361999000,\n",
       "  'returnOnAssets': 0.01598,\n",
       "  'returnOnEquity': 0.09867,\n",
       "  'debtToEquity': 23.087,\n",
       "  'sharesOutstanding': 369872992,\n",
       "  'floatShares': 712808185,\n",
       "  '4Quarters_increasing_revenue': False,\n",
       "  '4Quarters_increasing_profit': False,\n",
       "  '4years_increasing_revenue': True,\n",
       "  '4years_increasing_profit': False}]"
      ]
     },
     "execution_count": 99,
     "metadata": {},
     "output_type": "execute_result"
    }
   ],
   "source": [
    "exec(\"\"\"\\nimport sys,os\\nexec(\\\"\\\"\\\"\\\\ndef get_git_root(path=os.getcwd(),display=False):\\\\n    \\\\n    '''\\\\n    Get Git Root Directory. Only recursively goes up 10 directories.\\\\n    RETURNS: None or absolute path to git root directory\\\\n    '''\\\\n    count = 0\\\\n    prefix = \"\"\\\\n    while count < 10:\\\\n        if os.path.exists(prefix+'.git'):\\\\n            return os.path.abspath(prefix)\\\\n        else:\\\\n            prefix +=\"../\"\\\\n            count+=1\\\\n    print(\"No git top level directory\")\\\\n    return None\\\\n\\\"\\\"\\\")\\ngitroot=get_git_root()\\nsys.path.append(os.path.abspath(gitroot))\\n\"\"\") # one liner statement that adds the root of this repo to python for inports\n",
    "from helper_functions import get_fundamental_indicators\n",
    "from importlib import reload\n",
    "reload(get_fundamental_indicators)\n",
    "\n",
    "get_fundamental_indicators.write_symbols_to_csv()"
   ]
  }
 ],
 "metadata": {
  "kernelspec": {
   "display_name": "Python 3",
   "language": "python",
   "name": "python3"
  },
  "language_info": {
   "codemirror_mode": {
    "name": "ipython",
    "version": 3
   },
   "file_extension": ".py",
   "mimetype": "text/x-python",
   "name": "python",
   "nbconvert_exporter": "python",
   "pygments_lexer": "ipython3",
   "version": "3.10.8"
  },
  "orig_nbformat": 4,
  "vscode": {
   "interpreter": {
    "hash": "aee8b7b246df8f9039afb4144a1f6fd8d2ca17a180786b69acc140d282b71a49"
   }
  }
 },
 "nbformat": 4,
 "nbformat_minor": 2
}
