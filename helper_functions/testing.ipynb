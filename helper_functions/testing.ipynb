{
 "cells": [
  {
   "cell_type": "code",
   "execution_count": null,
   "metadata": {},
   "outputs": [],
   "source": [
    "exec(\"\"\"\\nimport sys,os\\nexec(\\\"\\\"\\\"\\\\ndef get_git_root(path=os.getcwd(),display=False):\\\\n    \\\\n    '''\\\\n    Get Git Root Directory. Only recursively goes up 10 directories.\\\\n    RETURNS: None or absolute path to git root directory\\\\n    '''\\\\n    count = 0\\\\n    prefix = \"\"\\\\n    while count < 10:\\\\n        if os.path.exists(prefix+'.git'):\\\\n            return os.path.abspath(prefix)\\\\n        else:\\\\n            prefix +=\"../\"\\\\n            count+=1\\\\n    print(\"No git top level directory\")\\\\n    return None\\\\n\\\"\\\"\\\")\\ngitroot=get_git_root()\\nsys.path.append(os.path.abspath(gitroot))\\n\"\"\") # one liner statement that adds the root of this repo to python for inports\n",
    "from helper_functions import get_fundamental_indicators\n",
    "from importlib import reload\n",
    "from tradingview_ta import TA_Handler, Interval\n",
    "reload(get_fundamental_indicators)\n",
    "\n",
    "get_fundamental_indicators.write_symbols_to_csv()"
   ]
  },
  {
   "cell_type": "code",
   "execution_count": 8,
   "metadata": {},
   "outputs": [
    {
     "name": "stdout",
     "output_type": "stream",
     "text": [
      "{'Recommend.Other': 0, 'Recommend.All': -0.4, 'Recommend.MA': -0.8, 'RSI': 28.2302688, 'RSI[1]': 28.45750414, 'Stoch.K': 5.61029571, 'Stoch.D': 7.25279287, 'Stoch.K[1]': 7.51416587, 'Stoch.D[1]': 8.67975004, 'CCI20': -164.64894142, 'CCI20[1]': -200.82350623, 'ADX': 29.50833087, 'ADX+DI': 16.10673955, 'ADX-DI': 34.75255632, 'ADX+DI[1]': 16.75952086, 'ADX-DI[1]': 35.38372314, 'AO': -3.07479088, 'AO[1]': -2.39055735, 'Mom': -5.32, 'Mom[1]': -5.17, 'MACD.macd': -0.75047361, 'MACD.signal': -0.0455961, 'Rec.Stoch.RSI': 0, 'Stoch.RSI.K': 0, 'Rec.WR': 1, 'W.R': -94.81417459, 'Rec.BBPower': 0, 'BBPower': -4.88690896, 'Rec.UO': 0, 'UO': 33.16276346, 'close': 32.38, 'EMA5': 33.22510191, 'SMA5': 33.006, 'EMA10': 34.36015726, 'SMA10': 34.937, 'EMA20': 35.28441108, 'SMA20': 36.2535, 'EMA30': 35.42137857, 'SMA30': 36.36766667, 'EMA50': 35.21563595, 'SMA50': 34.9122, 'EMA100': 35.07737345, 'SMA100': 34.4257, 'EMA200': 36.09565919, 'SMA200': 35.7203, 'Rec.Ichimoku': 0, 'Ichimoku.BLine': 35.34, 'Rec.VWMA': -1, 'VWMA': 35.76578526, 'Rec.HullMA9': 1, 'HullMA9': 31.48414815, 'Pivot.M.Classic.S3': 30.90666667, 'Pivot.M.Classic.S2': 34.09666667, 'Pivot.M.Classic.S1': 35.97333333, 'Pivot.M.Classic.Middle': 37.28666667, 'Pivot.M.Classic.R1': 39.16333333, 'Pivot.M.Classic.R2': 40.47666667, 'Pivot.M.Classic.R3': 43.66666667, 'Pivot.M.Fibonacci.S3': 34.09666667, 'Pivot.M.Fibonacci.S2': 35.31524667, 'Pivot.M.Fibonacci.S1': 36.06808667, 'Pivot.M.Fibonacci.Middle': 37.28666667, 'Pivot.M.Fibonacci.R1': 38.50524667, 'Pivot.M.Fibonacci.R2': 39.25808667, 'Pivot.M.Fibonacci.R3': 40.47666667, 'Pivot.M.Camarilla.S3': 36.97275, 'Pivot.M.Camarilla.S2': 37.26516667, 'Pivot.M.Camarilla.S1': 37.55758333, 'Pivot.M.Camarilla.Middle': 37.28666667, 'Pivot.M.Camarilla.R1': 38.14241667, 'Pivot.M.Camarilla.R2': 38.43483333, 'Pivot.M.Camarilla.R3': 38.72725, 'Pivot.M.Woodie.S3': 32.715, 'Pivot.M.Woodie.S2': 34.0625, 'Pivot.M.Woodie.S1': 35.905, 'Pivot.M.Woodie.Middle': 37.2525, 'Pivot.M.Woodie.R1': 39.095, 'Pivot.M.Woodie.R2': 40.4425, 'Pivot.M.Woodie.R3': 42.285, 'Pivot.M.Demark.S1': 36.63, 'Pivot.M.Demark.Middle': 37.615, 'Pivot.M.Demark.R1': 39.82, 'open': 32.11, 'P.SAR': 35.49659216, 'BB.lower': 32.30936879, 'BB.upper': 40.19763121, 'AO[2]': -1.54333676, 'volume': 36985545, 'change': -0.18495684, 'low': 32.08, 'high': 32.6014, 'KltChnl.lower': 33.34432555, 'KltChnl.upper': 37.22449661}\n"
     ]
    }
   ],
   "source": [
    "request = TA_Handler(screener='america', exchange='NYSE', symbol='BAC', interval=Interval.INTERVAL_1_DAY)\n",
    "output = request.get_indicators()\n",
    "print (output)"
   ]
  }
 ],
 "metadata": {
  "kernelspec": {
   "display_name": "Python 3",
   "language": "python",
   "name": "python3"
  },
  "language_info": {
   "codemirror_mode": {
    "name": "ipython",
    "version": 3
   },
   "file_extension": ".py",
   "mimetype": "text/x-python",
   "name": "python",
   "nbconvert_exporter": "python",
   "pygments_lexer": "ipython3",
   "version": "3.8.1"
  },
  "orig_nbformat": 4,
  "vscode": {
   "interpreter": {
    "hash": "6ad701d5a8a907c7c53a85ed8146b8292c9f14b353a01b2cb7bbe95dd5aa980a"
   }
  }
 },
 "nbformat": 4,
 "nbformat_minor": 2
}
