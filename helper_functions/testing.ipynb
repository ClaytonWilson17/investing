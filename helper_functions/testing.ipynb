{
 "cells": [
  {
   "cell_type": "code",
   "execution_count": 22,
   "metadata": {},
   "outputs": [
    {
     "name": "stdout",
     "output_type": "stream",
     "text": [
      "\n",
      "Collecting data for all stocks...\n",
      "\n",
      "Loading c:\\Users\\crw20\\Desktop\\PersonalProjects\\investing\\data\\historical_indicators2022-12-15.pkl as cache\n",
      "Getting historical data from c:\\Users\\crw20\\Desktop\\PersonalProjects\\investing\\data\\historical_indicators2022-12-15.pkl\n",
      "Loading c:\\Users\\crw20\\Desktop\\PersonalProjects\\investing\\data\\historical_indicators2022-12-15.pkl as cache\n",
      "{'Symbol': 'GOOGL', 'Price': 90.86, 'RSI': 39.5968141, 'Pivot middle': 95.12333333, 'Pivot support 1': 89.20666667, 'Pivot support 2': 77.42333333, 'MACD_line': -0.75077115, 'MACD_signal': -0.17244595, 'Stochastic': 24.23609951, 'Keltner lower': 89.08258945, 'Keltner upper': 101.84020194, 'Chart Link': 'https://finance.yahoo.com/quote/GOOGL/chart?p=GOOGL'}\n"
     ]
    }
   ],
   "source": [
    "exec(\"\"\"\\nimport sys,os\\nexec(\\\"\\\"\\\"\\\\ndef get_git_root(path=os.getcwd(),display=False):\\\\n    \\\\n    '''\\\\n    Get Git Root Directory. Only recursively goes up 10 directories.\\\\n    RETURNS: None or absolute path to git root directory\\\\n    '''\\\\n    count = 0\\\\n    prefix = \"\"\\\\n    while count < 10:\\\\n        if os.path.exists(prefix+'.git'):\\\\n            return os.path.abspath(prefix)\\\\n        else:\\\\n            prefix +=\"../\"\\\\n            count+=1\\\\n    print(\"No git top level directory\")\\\\n    return None\\\\n\\\"\\\"\\\")\\ngitroot=get_git_root()\\nsys.path.append(os.path.abspath(gitroot))\\n\"\"\") # one liner statement that adds the root of this repo to python for inports\n",
    "from helper_functions import get_fundamental_indicators, get_technical_indicators, general\n",
    "from importlib import reload\n",
    "from tradingview_ta import TA_Handler, Interval\n",
    "import yfinance as yf #https://github.com/ranaroussi/yfinance\n",
    "reload(get_fundamental_indicators)\n",
    "\n",
    "\n",
    "NASDAQ_symbols = ['CSX', 'AMD', 'GOOGL', 'AMZN', 'DBX', 'AAPL', 'SBUX', 'MSFT', 'CSCO', 'TSCO', 'NVDA']\n",
    "NYSE_symbols = ['BAC', 'SYF', 'IBM', 'DKS', 'KR', 'UNH', 'DUK', 'TM', 'CNI', 'V', 'DE', 'FE', 'MA', 'O', 'LMT', 'WMT', 'DGX', 'WM', 'GIS', 'JPM', 'T', 'ABBV', 'JNJ', 'VALE', 'LOW', 'LEN', 'CVX', 'XOM', 'CAT', 'NKE']\n",
    "\n",
    "technical_data = []\n",
    "technical_data =get_technical_indicators.get_tech_indicators(NYSE_symbols=NYSE_symbols, NASDAQ_symbols=NASDAQ_symbols)\n",
    "data_path = general.dataPath(\"historical_indicators.pkl\")\n",
    "\n",
    "general.fileSaveCache(data_path, technical_data, datestamp=True)\n",
    "\n",
    "historical_indicators = general.fileLoadCache(data_path)\n",
    "\n",
    "temp = general.get_historical_indicators(sym='GOOGL', days_ago=0)\n",
    "\n"
   ]
  },
  {
   "cell_type": "code",
   "execution_count": 1,
   "metadata": {},
   "outputs": [
    {
     "name": "stdout",
     "output_type": "stream",
     "text": [
      "--- 7.59 seconds to get all stock data  ---\n",
      "AMD is not a good stock\n"
     ]
    },
    {
     "data": {
      "text/plain": [
       "[]"
      ]
     },
     "execution_count": 1,
     "metadata": {},
     "output_type": "execute_result"
    }
   ],
   "source": [
    "exec(\"\"\"\\nimport sys,os\\nexec(\\\"\\\"\\\"\\\\ndef get_git_root(path=os.getcwd(),display=False):\\\\n    \\\\n    '''\\\\n    Get Git Root Directory. Only recursively goes up 10 directories.\\\\n    RETURNS: None or absolute path to git root directory\\\\n    '''\\\\n    count = 0\\\\n    prefix = \"\"\\\\n    while count < 10:\\\\n        if os.path.exists(prefix+'.git'):\\\\n            return os.path.abspath(prefix)\\\\n        else:\\\\n            prefix +=\"../\"\\\\n            count+=1\\\\n    print(\"No git top level directory\")\\\\n    return None\\\\n\\\"\\\"\\\")\\ngitroot=get_git_root()\\nsys.path.append(os.path.abspath(gitroot))\\n\"\"\") # one liner statement that adds the root of this repo to python for inports\n",
    "from helper_functions import get_fundamental_indicators\n",
    "from importlib import reload\n",
    "from tradingview_ta import TA_Handler, Interval\n",
    "reload(get_fundamental_indicators)\n",
    "\n",
    "get_fundamental_indicators.write_symbol_to_csv(\"AEP\", \"NASDAQ\")"
   ]
  }
 ],
 "metadata": {
  "kernelspec": {
   "display_name": "Python 3",
   "language": "python",
   "name": "python3"
  },
  "language_info": {
   "codemirror_mode": {
    "name": "ipython",
    "version": 3
   },
   "file_extension": ".py",
   "mimetype": "text/x-python",
   "name": "python",
   "nbconvert_exporter": "python",
   "pygments_lexer": "ipython3",
   "version": "3.9.13"
  },
  "orig_nbformat": 4,
  "vscode": {
   "interpreter": {
    "hash": "6c6eea094494c928921e186d6d7cb2a8ab5ebd8870bfc4a6a66f7d30c1c4a8a3"
   }
  }
 },
 "nbformat": 4,
 "nbformat_minor": 2
}
