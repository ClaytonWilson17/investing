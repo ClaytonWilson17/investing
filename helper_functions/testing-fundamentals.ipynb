{
 "cells": [
  {
   "cell_type": "code",
   "execution_count": 26,
   "metadata": {},
   "outputs": [
    {
     "name": "stdout",
     "output_type": "stream",
     "text": [
      "This was a bad stock but returning results anyway\n",
      "--- 2.4 seconds to get all stock data  ---\n"
     ]
    },
    {
     "data": {
      "text/plain": [
       "[{'shortName': 'Dow Jones Industrial Average',\n",
       "  'industry': 0,\n",
       "  'symbol': '^DJI',\n",
       "  'exchange': 'test',\n",
       "  'currentPrice': 33162.22,\n",
       "  'heldPercentInstitutions': 0,\n",
       "  'dividendYield': 0,\n",
       "  'exDividendDate': None,\n",
       "  'forwardPE': 0,\n",
       "  'trailingPE': 0,\n",
       "  'priceToBook': 0,\n",
       "  'nextEarningsDate': 'NA',\n",
       "  '4Quarters_increasing_revenue': 'NA',\n",
       "  '4Quarters_increasing_profit': 'NA',\n",
       "  '4years_increasing_revenue': 'NA',\n",
       "  '4years_increasing_profit': 'NA',\n",
       "  'pct_chg_5y': 31.16,\n",
       "  'pct_chg_1y': -8.48,\n",
       "  'pct_chg_6mo': 6.84,\n",
       "  'pct_chg_3mo': 10.81,\n",
       "  'pct_chg_1mo': -1.29,\n",
       "  'pct_chg_1wk': 0.04,\n",
       "  'fundamentals_url': 'https://g.co/finance/.DJI:INDEXDJX',\n",
       "  'daily_chart': 'https://stockcharts.com/h-sc/ui?s=%24INDU&p=D&yr=0&mn=1&dy=0&id=p00835703143',\n",
       "  '5mo_chart': 'https://stockcharts.com/h-sc/ui?s=%24INDU&p=D&b=5&g=0&id=p05555723250'}]"
      ]
     },
     "execution_count": 26,
     "metadata": {},
     "output_type": "execute_result"
    }
   ],
   "source": [
    "exec(\"\"\"\\nimport sys,os\\nexec(\\\"\\\"\\\"\\\\ndef get_git_root(path=os.getcwd(),display=False):\\\\n    \\\\n    '''\\\\n    Get Git Root Directory. Only recursively goes up 10 directories.\\\\n    RETURNS: None or absolute path to git root directory\\\\n    '''\\\\n    count = 0\\\\n    prefix = \"\"\\\\n    while count < 10:\\\\n        if os.path.exists(prefix+'.git'):\\\\n            return os.path.abspath(prefix)\\\\n        else:\\\\n            prefix +=\"../\"\\\\n            count+=1\\\\n    print(\"No git top level directory\")\\\\n    return None\\\\n\\\"\\\"\\\")\\ngitroot=get_git_root()\\nsys.path.append(os.path.abspath(gitroot))\\n\"\"\") # one liner statement that adds the root of this repo to python for inports\n",
    "from helper_functions import get_fundamental_indicators, general\n",
    "from importlib import reload\n",
    "from tradingview_ta import TA_Handler, Interval\n",
    "reload(get_fundamental_indicators)\n",
    "\n",
    "\n",
    "#symbols = get_fundamental_indicators.get_all_symbols()\n",
    "#csv = general.resultsPath(\"all_symbols.csv\")\n",
    "#general.listOfDictsToCSV(symbols, csv)\n",
    "#get_fundamental_indicators.write_symbols_to_csv()\n",
    "get_fundamental_indicators.write_symbol_to_csv(\"^DJI\", \"test\", get_any_stock=True, cache=False) # composite symbols: [\"^IXIC\", \"^NYA\", \"^DJI\", \"^SPX\"]. Changing \"exchange\" doesn't do anything for them.\n",
    "#get_fundamental_indicators.get_delta()"
   ]
  }
 ],
 "metadata": {
  "kernelspec": {
   "display_name": "Python 3",
   "language": "python",
   "name": "python3"
  },
  "language_info": {
   "codemirror_mode": {
    "name": "ipython",
    "version": 3
   },
   "file_extension": ".py",
   "mimetype": "text/x-python",
   "name": "python",
   "nbconvert_exporter": "python",
   "pygments_lexer": "ipython3",
   "version": "3.10.8"
  },
  "orig_nbformat": 4,
  "vscode": {
   "interpreter": {
    "hash": "aee8b7b246df8f9039afb4144a1f6fd8d2ca17a180786b69acc140d282b71a49"
   }
  }
 },
 "nbformat": 4,
 "nbformat_minor": 2
}
